{
 "cells": [
  {
   "cell_type": "code",
   "execution_count": 26,
   "metadata": {},
   "outputs": [],
   "source": [
    "import pandas as pd"
   ]
  },
  {
   "cell_type": "markdown",
   "metadata": {},
   "source": [
    "Q1: How many people were in each age range?"
   ]
  },
  {
   "cell_type": "code",
   "execution_count": 27,
   "metadata": {},
   "outputs": [
    {
     "name": "stdout",
     "output_type": "stream",
     "text": [
      "0 subjects were Freshmen\n",
      "0 subjects were Sophomores\n",
      "8 subjects were Juniors\n",
      "9 subjects were Seniors\n",
      "1 subjects were Out of college\n"
     ]
    }
   ],
   "source": [
    "rawDF = pd.read_csv(\"stress_relief.csv\")\n",
    "\n",
    "def indexByYear(s):\n",
    "    return rawDF.loc[ rawDF['Year'] == s ].shape[0]\n",
    "\n",
    "freshCount = indexByYear(\"Freshman\")\n",
    "sophCount = indexByYear(\"Sophomore\")\n",
    "juniorCount = indexByYear(\"Junior\")\n",
    "seniorCount = indexByYear(\"Senior\")\n",
    "outtaCount = indexByYear(\"Out of college\")\n",
    "\n",
    "print(str(freshCount) + \" subjects were Freshmen\")\n",
    "print(str(sophCount) + \" subjects were Sophomores\")\n",
    "print(str(juniorCount) + \" subjects were Juniors\")\n",
    "print(str(seniorCount) + \" subjects were Seniors\")\n",
    "print(str(outtaCount) + \" subjects were Out of college\")"
   ]
  },
  {
   "cell_type": "markdown",
   "metadata": {},
   "source": [
    "A1: 0 subjects were Freshmen,\n",
    "0 subjects were Sophomores,\n",
    "8 subjects were Juniors,\n",
    "9 subjects were Seniors,\n",
    "and 1 subjects were Out of college."
   ]
  },
  {
   "cell_type": "markdown",
   "metadata": {},
   "source": [
    "Q2: What were the top three most common majors among subjects?"
   ]
  },
  {
   "cell_type": "code",
   "execution_count": 34,
   "metadata": {},
   "outputs": [
    {
     "name": "stdout",
     "output_type": "stream",
     "text": [
      "Creative Technologies\n",
      "Computer Science\n",
      "Data Analytics\n"
     ]
    }
   ],
   "source": [
    "def findTopNMostCommonMajors(n):\n",
    "    majorDict = {}\n",
    "\n",
    "    for i in rawDF['Major']:\n",
    "        if i in majorDict: majorDict[i] += 1\n",
    "        else: majorDict[i] = 1\n",
    "\n",
    "    sortedMajor = sorted( majorDict.items(), key=lambda item: item[1] )\n",
    "    sortedMajor.reverse()\n",
    "\n",
    "    i = 0\n",
    "\n",
    "    while i < n:\n",
    "        print(sortedMajor[i][0])\n",
    "        i += 1\n",
    "    \n",
    "findTopNMostCommonMajors(3)\n"
   ]
  },
  {
   "cell_type": "markdown",
   "metadata": {},
   "source": [
    "A2: The top three majors among the subjects of this study were Creative Technologies (4), Computer Science (4), and Data Analytics (2)."
   ]
  },
  {
   "cell_type": "markdown",
   "metadata": {},
   "source": [
    "Q3: What percentage of subjects were male? What percentage were female?"
   ]
  },
  {
   "cell_type": "code",
   "execution_count": 39,
   "metadata": {},
   "outputs": [
    {
     "name": "stdout",
     "output_type": "stream",
     "text": [
      "56.00000000000001 percent of subjects were male\n",
      "44.0 percent of subjects were female\n"
     ]
    }
   ],
   "source": [
    "genderObject = rawDF['Gender']\n",
    "\n",
    "maleCount = 0\n",
    "femaleCount = 0\n",
    "\n",
    "for i in genderObject:\n",
    "    if i == \"Male\": maleCount += 1\n",
    "    if i == \"Female\": femaleCount += 1\n",
    "\n",
    "total = maleCount + femaleCount\n",
    "\n",
    "femalePerc = round(femaleCount/total,2) * 100\n",
    "malePerc = round(maleCount/total,2) * 100\n",
    "\n",
    "print(str(malePerc) + \" percent of subjects were male\")\n",
    "print(str(femalePerc) + \" percent of subjects were female\")\n"
   ]
  },
  {
   "cell_type": "markdown",
   "metadata": {},
   "source": [
    "A3: 56% of subjects were male, and 44% of subjects were female."
   ]
  },
  {
   "cell_type": "markdown",
   "metadata": {},
   "source": [
    "Q4: How many subjects voted for each method of stress relief?"
   ]
  },
  {
   "cell_type": "code",
   "execution_count": 45,
   "metadata": {},
   "outputs": [
    {
     "name": "stdout",
     "output_type": "stream",
     "text": [
      "1 subject(s) chose Read Books\n",
      "7 subject(s) chose Exercise\n",
      "4 subject(s) chose Play Video Games\n",
      "2 subject(s) chose Watch a Show\n",
      "2 subject(s) chose Hang out with Friends\n",
      "1 subject(s) chose None (Push through the pain)\n",
      "1 subject(s) chose Other\n"
     ]
    }
   ],
   "source": [
    "optionsDict = {\n",
    "    \"Read Books\": 0,\n",
    "    \"Exercise\": 0,\n",
    "    \"Play Video Games\": 0,\n",
    "    \"Watch a Show\": 0,\n",
    "    \"Hang out with Friends\": 0,\n",
    "    \"None (Push through the pain)\": 0,\n",
    "    \"Other\": 0\n",
    "}\n",
    "\n",
    "methodObject = rawDF['What is your preferred method of relieving stress?']\n",
    "\n",
    "for m in methodObject:\n",
    "    if m in optionsDict: optionsDict[m] += 1\n",
    "    else: optionsDict['Other'] += 1\n",
    "\n",
    "for o in optionsDict:\n",
    "    print(str(optionsDict[o]) + \" subject(s) chose \" + o)"
   ]
  },
  {
   "cell_type": "markdown",
   "metadata": {},
   "source": [
    "A4: 1 subject(s) chose to Read Books, 7 subject(s) chose Exercise, 4 subject(s) chose Play Video Games, 2 subject(s) chose Watch a Show, 2 subject(s) chose Hang out with Friends, 1 subject(s) chose None (Push through the pain), and 1 subject(s) chose Other."
   ]
  },
  {
   "cell_type": "markdown",
   "metadata": {},
   "source": [
    "Q5: What time frame do subjects employ their stress relief practices in the most?"
   ]
  },
  {
   "cell_type": "code",
   "execution_count": 51,
   "metadata": {},
   "outputs": [
    {
     "name": "stdout",
     "output_type": "stream",
     "text": [
      "1 subject(s) practice stress relief the most during the hours of 6:00 am - 12:00 pm\n",
      "6 subject(s) practice stress relief the most during the hours of 12:00 pm - 6:00 pm\n",
      "11 subject(s) practice stress relief the most during the hours of 6:00 pm - 12:00 am\n",
      "0 subject(s) practice stress relief the most during the hours of 12:00 am - 6:00 am\n"
     ]
    }
   ],
   "source": [
    "timeFrameDict = {\n",
    "    \"6:00 am - 12:00 pm\": 0,\n",
    "    \"12:00 pm - 6:00 pm\": 0,\n",
    "    \"6:00 pm - 12:00 am\": 0,\n",
    "    \"12:00 am - 6:00 am\": 0,\n",
    "}\n",
    "\n",
    "timeObject = rawDF['What time of day do you find yourself employing these methods the most?']\n",
    "\n",
    "for t in timeObject:\n",
    "    timeFrameDict[t] += 1\n",
    "\n",
    "for tf in timeFrameDict:\n",
    "    print(str(timeFrameDict[tf]) + \" subject(s) practice stress relief the most during the hours of \" + tf )\n"
   ]
  },
  {
   "cell_type": "markdown",
   "metadata": {},
   "source": [
    "A5: 1 subject(s) practice stress relief the most during the hours of 6:00 am - 12:00 pm, 6 subject(s) practice stress relief the most during the hours of 12:00 pm - 6:00 pm, 11 subject(s) practice stress relief the most during the hours of 6:00 pm - 12:00 am, and 0 subject(s) practice stress relief the most during the hours of 12:00 am - 6:00 am."
   ]
  },
  {
   "cell_type": "markdown",
   "metadata": {},
   "source": [
    "Q6: Where do subjects practice stress relief the most?"
   ]
  },
  {
   "cell_type": "code",
   "execution_count": 52,
   "metadata": {},
   "outputs": [
    {
     "name": "stdout",
     "output_type": "stream",
     "text": [
      "6 subject(s) practice stress relief in their Bedroom\n",
      "5 subject(s) practice stress relief in their Living room / Common area\n",
      "0 subject(s) practice stress relief in their Friend's House\n",
      "7 subject(s) practice stress relief in their Other\n"
     ]
    }
   ],
   "source": [
    "locationDict = {\n",
    "    \"Bedroom\": 0,\n",
    "    \"Living room / Common area\": 0,\n",
    "    \"Friend's House\": 0,\n",
    "    \"Other\": 0\n",
    "}\n",
    "\n",
    "locationObject = rawDF['Where do you find yourself practice stress relief practices?']\n",
    "\n",
    "for l in locationObject:\n",
    "    if l in locationDict: locationDict[l] += 1\n",
    "    else: locationDict['Other'] += 1\n",
    "\n",
    "for l in locationDict:\n",
    "    print(str(locationDict[l]) + \" subject(s) practice stress relief in their \" + l)"
   ]
  },
  {
   "cell_type": "markdown",
   "metadata": {},
   "source": [
    "A6: 6 subject(s) practice stress relief in their Bedroom, 5 subject(s) practice stress relief in their Living room / Common area, 0 subject(s) practice stress relief in their Friend's House, and 7 subject(s) practice stress relief in another location."
   ]
  },
  {
   "cell_type": "markdown",
   "metadata": {},
   "source": [
    "Q7: Why do subjects choose their stress relief practices?"
   ]
  },
  {
   "cell_type": "code",
   "execution_count": 54,
   "metadata": {},
   "outputs": [
    {
     "name": "stdout",
     "output_type": "stream",
     "text": [
      "13 subject(s) practice stress relief Because it's my favorite hobby\n",
      "0 subject(s) practice stress relief Because that's how I was raised\n",
      "0 subject(s) practice stress relief Because I saw it in a movie once and it looked fun\n",
      "3 subject(s) practice stress relief Because a friend suggested it\n",
      "2 subject(s) practice stress relief Other\n"
     ]
    }
   ],
   "source": [
    "whyDict = {\n",
    "    \"Because it's my favorite hobby\": 0,\n",
    "    \"Because that's how I was raised\": 0,\n",
    "    \"Because I saw it in a movie once and it looked fun\": 0,\n",
    "    \"Because a friend suggested it\": 0,\n",
    "    \"Other\": 0\n",
    "}\n",
    "\n",
    "whyObject = rawDF['Why do you choose your preferred stress relief practice?']\n",
    "\n",
    "for w in whyObject:\n",
    "    if w in whyDict: whyDict[w] += 1\n",
    "    else: whyDict['Other'] += 1\n",
    "\n",
    "for w in whyDict:\n",
    "    print(str(whyDict[w]) + \" subject(s) practice stress relief \" + w)"
   ]
  },
  {
   "cell_type": "markdown",
   "metadata": {},
   "source": [
    "A7: 13 subject(s) practice stress relief Because it's their favorite hobby, 0 subject(s) practice stress relief Because that's how they were raised, 0 subject(s) practice stress relief Because they saw it in a movie once and it looked fun, 3 subject(s) practice stress relief Because a friend suggested it, and 2 subject(s) practice stress relief for \"Other\" reasons."
   ]
  },
  {
   "cell_type": "markdown",
   "metadata": {},
   "source": [
    "How?:\n",
    "\n",
    "To conduct this survey, I used a Google Form, which I sent to my friends, as well as posting the form on our classes Discord channel. The survey was created and posted one week before the responses were collected and analyzed. Upon analyzing the data, I discovered that I should consider more possibilities for multiple choice questions, specifically the \"What\", \"Why\", and \"Where\" questions."
   ]
  },
  {
   "cell_type": "markdown",
   "metadata": {},
   "source": [
    "Discussion/Conclusions:\n",
    "\n",
    "I did not see any trends in this data. However, with a longer period of time and a bigger pool of subjects, I believe finding trends would be much easier."
   ]
  },
  {
   "cell_type": "markdown",
   "metadata": {},
   "source": []
  }
 ],
 "metadata": {
  "kernelspec": {
   "display_name": "base",
   "language": "python",
   "name": "python3"
  },
  "language_info": {
   "codemirror_mode": {
    "name": "ipython",
    "version": 3
   },
   "file_extension": ".py",
   "mimetype": "text/x-python",
   "name": "python",
   "nbconvert_exporter": "python",
   "pygments_lexer": "ipython3",
   "version": "3.11.5"
  },
  "orig_nbformat": 4
 },
 "nbformat": 4,
 "nbformat_minor": 2
}
